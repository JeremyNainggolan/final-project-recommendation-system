{
 "cells": [
  {
   "cell_type": "markdown",
   "id": "75774850",
   "metadata": {},
   "source": [
    "## FASE 2: DATA UNDERSTANDING (Pemahaman Data)"
   ]
  },
  {
   "cell_type": "markdown",
   "id": "117f9d5c",
   "metadata": {},
   "source": [
    "### Blok 2.1: Import Pustaka (Library) dan Muat Data"
   ]
  },
  {
   "cell_type": "code",
   "execution_count": 1,
   "id": "bdf9b60d",
   "metadata": {},
   "outputs": [
    {
     "name": "stdout",
     "output_type": "stream",
     "text": [
      "Data berhasil dimuat.\n"
     ]
    }
   ],
   "source": [
    "import pandas as pd\n",
    "import numpy as np\n",
    "from sklearn.model_selection import train_test_split\n",
    "from scipy.sparse import csr_matrix\n",
    "from sklearn.metrics.pairwise import cosine_similarity\n",
    "import sys\n",
    "\n",
    "# Muat data dari file yang diunggah\n",
    "file_path = 'C:/Users/Reinaldy Hutapea/Videos/SEMESTER 7/SISREK/Kelompok/data-books/train.csv'\n",
    "df = pd.read_csv(file_path)\n",
    "\n",
    "print(\"Data berhasil dimuat.\")"
   ]
  },
  {
   "cell_type": "markdown",
   "id": "9585d518",
   "metadata": {},
   "source": [
    "### Blok 2.2: Eksplorasi Data Awal (Inspeksi Kualitas)"
   ]
  },
  {
   "cell_type": "code",
   "execution_count": 2,
   "id": "39265b18",
   "metadata": {},
   "outputs": [
    {
     "name": "stdout",
     "output_type": "stream",
     "text": [
      "--- 5 Baris Pertama Data (Inspeksi Visual) ---\n",
      "   user_id     item_id\n",
      "0        8  0002005018\n",
      "1        8  074322678X\n",
      "2        8  0887841740\n",
      "3        8  1552041778\n",
      "4        8  1567407781\n",
      "\n",
      "--- Informasi Teknis Data (Pemeriksaan Kualitas) ---\n",
      "<class 'pandas.core.frame.DataFrame'>\n",
      "RangeIndex: 269764 entries, 0 to 269763\n",
      "Data columns (total 2 columns):\n",
      " #   Column   Non-Null Count   Dtype \n",
      "---  ------   --------------   ----- \n",
      " 0   user_id  269764 non-null  int64 \n",
      " 1   item_id  269764 non-null  object\n",
      "dtypes: int64(1), object(1)\n",
      "memory usage: 4.1+ MB\n"
     ]
    }
   ],
   "source": [
    "print(\"--- 5 Baris Pertama Data (Inspeksi Visual) ---\")\n",
    "print(df.head())\n",
    "\n",
    "print(\"\\n--- Informasi Teknis Data (Pemeriksaan Kualitas) ---\")\n",
    "df.info()"
   ]
  },
  {
   "cell_type": "markdown",
   "id": "333f9229",
   "metadata": {},
   "source": [
    "### Blok 2.3: Statistik Deskriptif Data"
   ]
  },
  {
   "cell_type": "code",
   "execution_count": 3,
   "id": "6196df51",
   "metadata": {},
   "outputs": [
    {
     "name": "stdout",
     "output_type": "stream",
     "text": [
      "--- Statistik Kunci Data ---\n",
      "Jumlah Total Interaksi: 269764\n",
      "Jumlah Pengguna Unik:   13876\n",
      "Jumlah Item (Buku) Unik: 123069\n",
      "Sparsity Data: 0.000158 (atau 0.0158%)\n"
     ]
    }
   ],
   "source": [
    "# Hitung statistik kunci\n",
    "n_users = df['user_id'].nunique()\n",
    "n_items = df['item_id'].nunique()\n",
    "n_interactions = len(df)\n",
    "\n",
    "# Hitung kepadatan data (seberapa banyak matriks terisi)\n",
    "sparsity = n_interactions / (n_users * n_items)\n",
    "\n",
    "print(f\"--- Statistik Kunci Data ---\")\n",
    "print(f\"Jumlah Total Interaksi: {n_interactions}\")\n",
    "print(f\"Jumlah Pengguna Unik:   {n_users}\")\n",
    "print(f\"Jumlah Item (Buku) Unik: {n_items}\")\n",
    "print(f\"Sparsity Data: {sparsity:.6f} (atau {sparsity*100:.4f}%)\")"
   ]
  },
  {
   "cell_type": "markdown",
   "id": "b2f4efca",
   "metadata": {},
   "source": [
    "## FASE 3: DATA PREPARATION (Persiapan Data)"
   ]
  },
  {
   "cell_type": "markdown",
   "id": "2ae3df34",
   "metadata": {},
   "source": [
    "### Blok 3.1: Implementasi Metrik Evaluasi (MAP@10)"
   ]
  },
  {
   "cell_type": "code",
   "execution_count": 4,
   "id": "d22f5e5f",
   "metadata": {},
   "outputs": [
    {
     "name": "stdout",
     "output_type": "stream",
     "text": [
      "Fungsi metrik apk() dan mapk() telah dibuat.\n"
     ]
    }
   ],
   "source": [
    "def apk(actual, predicted, k=10):\n",
    "    \"\"\" Menghitung Average Precision at k (AP@k) untuk satu pengguna. \"\"\"\n",
    "    if len(predicted) > k:\n",
    "        predicted = predicted[:k]\n",
    "    score = 0.0\n",
    "    num_hits = 0.0\n",
    "    for i, p in enumerate(predicted):\n",
    "        if p in actual and p not in predicted[:i]:\n",
    "            num_hits += 1.0\n",
    "            score += num_hits / (i + 1.0)\n",
    "    if not actual:\n",
    "        return 0.0\n",
    "    return score / min(len(actual), k)\n",
    "\n",
    "def mapk(actual, predicted, k=10):\n",
    "    \"\"\" Menghitung Mean Average Precision at k (MAP@k) untuk semua pengguna. \"\"\"\n",
    "    if not actual or not predicted or len(actual) != len(predicted):\n",
    "        return 0.0\n",
    "    return np.mean([apk(a, p, k) for a, p in zip(actual, predicted) if a])\n",
    "\n",
    "print(\"Fungsi metrik apk() dan mapk() telah dibuat.\")"
   ]
  },
  {
   "cell_type": "markdown",
   "id": "283fa9c0",
   "metadata": {},
   "source": [
    "### Blok 3.2: Pemetaan ID (ID Mapping)"
   ]
  },
  {
   "cell_type": "code",
   "execution_count": 5,
   "id": "099804fe",
   "metadata": {},
   "outputs": [
    {
     "name": "stdout",
     "output_type": "stream",
     "text": [
      "ID kategori dan kamus pemetaan telah dibuat.\n",
      "\n",
      "Contoh data setelah pemetaan (kolom baru di kanan):\n",
      "   user_id     item_id  user_id_cat  item_id_cat\n",
      "0        8  0002005018            0           84\n",
      "1        8  074322678X            0        84491\n",
      "2        8  0887841740            0       100281\n",
      "3        8  1552041778            0       103153\n",
      "4        8  1567407781            0       104104\n"
     ]
    }
   ],
   "source": [
    "# Membuat ID Kategori (indeks numerik dari 0)\n",
    "df['user_id_cat'] = df['user_id'].astype(\"category\").cat.codes\n",
    "df['item_id_cat'] = df['item_id'].astype(\"category\").cat.codes\n",
    "\n",
    "# Membuat Kamus Penerjemah\n",
    "# (ID Kategori -> ID Asli) - Untuk menerjemahkan hasil rekomendasi\n",
    "cat_to_item_id = dict(zip(df['item_id_cat'], df['item_id']))\n",
    "\n",
    "# (ID Asli -> ID Kategori) - Untuk mencari data di matriks\n",
    "user_id_to_cat = dict(zip(df['user_id'], df['user_id_cat']))\n",
    "\n",
    "print(\"ID kategori dan kamus pemetaan telah dibuat.\")\n",
    "print(\"\\nContoh data setelah pemetaan (kolom baru di kanan):\")\n",
    "print(df.head())"
   ]
  },
  {
   "cell_type": "markdown",
   "id": "6a9699b3",
   "metadata": {},
   "source": [
    "### Blok 3.3: Pembagian Data (Train-Validation Split)"
   ]
  },
  {
   "cell_type": "code",
   "execution_count": 6,
   "id": "b6df5c7c",
   "metadata": {},
   "outputs": [
    {
     "name": "stdout",
     "output_type": "stream",
     "text": [
      "Total data: 269764\n",
      "Jumlah data latihan (train): 215811 (80.0%)\n",
      "Jumlah data validasi (validation): 53953 (20.0%)\n"
     ]
    }
   ],
   "source": [
    "# Membagi data (80% Latihan, 20% Validasi)\n",
    "train_df, validation_df = train_test_split(df, \n",
    "                                           test_size=0.2, \n",
    "                                           random_state=42)\n",
    "\n",
    "print(f\"Total data: {len(df)}\")\n",
    "print(f\"Jumlah data latihan (train): {len(train_df)} ({len(train_df)/len(df)*100:.1f}%)\")\n",
    "print(f\"Jumlah data validasi (validation): {len(validation_df)} ({len(validation_df)/len(df)*100:.1f}%)\")"
   ]
  },
  {
   "cell_type": "markdown",
   "id": "1ab89300",
   "metadata": {},
   "source": [
    "### Blok 3.4: Finalisasi Set Data Evaluasi"
   ]
  },
  {
   "cell_type": "code",
   "execution_count": 7,
   "id": "8cf625b3",
   "metadata": {},
   "outputs": [
    {
     "name": "stdout",
     "output_type": "stream",
     "text": [
      "Data evaluasi telah siap.\n",
      "Jumlah pengguna yang akan diuji (di set validasi): 11443\n"
     ]
    }
   ],
   "source": [
    "# 1. Membuat \"Kunci Jawaban\" (Ground Truth) dari data validasi\n",
    "validation_truth = validation_df.groupby('user_id')['item_id'].apply(list).to_dict()\n",
    "# Daftar pengguna yang akan kita uji\n",
    "validation_users = list(validation_truth.keys())\n",
    "\n",
    "# 2. Membuat \"Daftar Filter\" (Seen Items) dari data latihan\n",
    "# Menggunakan ID Asli (String) untuk filtering di Fase Evaluasi\n",
    "train_items_by_user_str = train_df.groupby('user_id')['item_id'].apply(set).to_dict()\n",
    "# Menggunakan ID Kategori (Angka) untuk proses Modeling\n",
    "train_items_by_user_cat = train_df.groupby('user_id_cat')['item_id_cat'].apply(list).to_dict()\n",
    "\n",
    "print(f\"Data evaluasi telah siap.\")\n",
    "print(f\"Jumlah pengguna yang akan diuji (di set validasi): {len(validation_users)}\")"
   ]
  },
  {
   "cell_type": "markdown",
   "id": "f4865661",
   "metadata": {},
   "source": [
    "## FASE 4: MODELING (Pemodelan)"
   ]
  },
  {
   "cell_type": "markdown",
   "id": "7383ba97",
   "metadata": {},
   "source": [
    "### Blok 4.1: Pelatihan Model A (Baseline): Popularitas"
   ]
  },
  {
   "cell_type": "code",
   "execution_count": 8,
   "id": "0f4ca510",
   "metadata": {},
   "outputs": [
    {
     "name": "stdout",
     "output_type": "stream",
     "text": [
      "--- [MODEL A] Melatih Model Dasar (Popularitas) ---\n",
      "Model Popularitas telah 'terlatih'.\n",
      "Top 5 item terpopuler:\n",
      "['0316666343', '0385504209', '0312195516', '0142001740', '059035342X']\n"
     ]
    }
   ],
   "source": [
    "print(\"--- [MODEL A] Melatih Model Dasar (Popularitas) ---\")\n",
    "\n",
    "# \"Pelatihan\" = Menghitung item paling populer HANYA dari data latihan\n",
    "popularity_scores = train_df['item_id'].value_counts()\n",
    "\n",
    "# Ambil 100 item terpopuler sebagai \"model\" kita\n",
    "top_popular_items = popularity_scores.head(100).index.tolist()\n",
    "\n",
    "print(\"Model Popularitas telah 'terlatih'.\")\n",
    "print(\"Top 5 item terpopuler:\")\n",
    "print(top_popular_items[:5])"
   ]
  },
  {
   "cell_type": "markdown",
   "id": "2316e7f5",
   "metadata": {},
   "source": [
    "### Blok 4.2: Pelatihan Model B (Canggih): Persiapan Matriks IBCF"
   ]
  },
  {
   "cell_type": "code",
   "execution_count": 9,
   "id": "86f51ef3",
   "metadata": {},
   "outputs": [
    {
     "name": "stdout",
     "output_type": "stream",
     "text": [
      "--- [MODEL B] Melatih Model Canggih (IBCF) ---\n",
      "Langkah 1: Membuat Matriks Sparse User-Item dari data latihan...\n",
      "Bentuk matriks User-Item (CSR): (13876, 123069)\n"
     ]
    }
   ],
   "source": [
    "print(\"--- [MODEL B] Melatih Model Canggih (IBCF) ---\")\n",
    "print(\"Langkah 1: Membuat Matriks Sparse User-Item dari data latihan...\")\n",
    "\n",
    "# Ambil jumlah total pengguna/item dari data asli (setelah pemetaan)\n",
    "num_users = df['user_id_cat'].nunique()\n",
    "num_items = df['item_id_cat'].nunique()\n",
    "\n",
    "# Buat matriks (user, item) dari data latihan\n",
    "user_item_matrix = csr_matrix((np.ones(len(train_df)), # data (semua bernilai 1)\n",
    "                               (train_df['user_id_cat'], train_df['item_id_cat'])), # (baris, kolom)\n",
    "                              shape=(num_users, num_items))\n",
    "\n",
    "print(f\"Bentuk matriks User-Item (CSR): {user_item_matrix.shape}\")"
   ]
  },
  {
   "cell_type": "markdown",
   "id": "e07aa504",
   "metadata": {},
   "source": [
    "### Blok 4.3: Pelatihan Model B (Canggih): Perhitungan Kesamaan IBCF"
   ]
  },
  {
   "cell_type": "code",
   "execution_count": 10,
   "id": "d48c942f",
   "metadata": {},
   "outputs": [
    {
     "name": "stdout",
     "output_type": "stream",
     "text": [
      "Langkah 2: Menghitung Matriks Kesamaan Item (Inti Model)...\n",
      "Bentuk matriks Kesamaan Item (Model Terlatih): (123069, 123069)\n"
     ]
    }
   ],
   "source": [
    "print(\"Langkah 2: Menghitung Matriks Kesamaan Item (Inti Model)...\")\n",
    "\n",
    "# Transposisi matriks ke (Item, User)\n",
    "item_user_matrix = user_item_matrix.T.tocsr()\n",
    "\n",
    "# Hitung Cosine Similarity antar item\n",
    "item_similarity_matrix = cosine_similarity(item_user_matrix, dense_output=False)\n",
    "item_similarity_matrix = item_similarity_matrix.tocsr() # Ubah ke CSR untuk pencarian cepat\n",
    "\n",
    "print(f\"Bentuk matriks Kesamaan Item (Model Terlatih): {item_similarity_matrix.shape}\")"
   ]
  },
  {
   "cell_type": "markdown",
   "id": "30b62419",
   "metadata": {},
   "source": [
    "## FASE 5: EVALUATION (Evaluasi)"
   ]
  },
  {
   "cell_type": "markdown",
   "id": "2f445f51",
   "metadata": {},
   "source": [
    "### Blok 5.1: Evaluasi Model A (Popularitas)"
   ]
  },
  {
   "cell_type": "code",
   "execution_count": 11,
   "id": "774ed6cd",
   "metadata": {},
   "outputs": [
    {
     "name": "stdout",
     "output_type": "stream",
     "text": [
      "--- [EVALUASI MODEL A] Menghitung Skor MAP@10 Popularitas ---\n",
      "--- SKOR AKHIR MODEL DASAR (POPULARITAS) ---\n",
      "SKOR MAP@10: 0.004362\n"
     ]
    }
   ],
   "source": [
    "print(\"--- [EVALUASI MODEL A] Menghitung Skor MAP@10 Popularitas ---\")\n",
    "\n",
    "predicted_list_popular = []\n",
    "actual_list_popular = []\n",
    "\n",
    "for user in validation_users:\n",
    "    # 1. Ambil daftar item yang sudah dilihat (untuk filtering)\n",
    "    seen_items = train_items_by_user_str.get(user, set())\n",
    "\n",
    "    # 2. Buat rekomendasi: item populer yang BELUM dilihat\n",
    "    recs = [item for item in top_popular_items if item not in seen_items]\n",
    "\n",
    "    # 3. Ambil top 10\n",
    "    top_10_recs = recs[:10]\n",
    "\n",
    "    # 4. Kumpulkan prediksi dan kunci jawaban\n",
    "    predicted_list_popular.append(top_10_recs)\n",
    "    actual_list_popular.append(validation_truth[user])\n",
    "\n",
    "# 5. Hitung skor akhir\n",
    "mapk_score_popular = mapk(actual_list_popular, predicted_list_popular, k=10)\n",
    "\n",
    "print(f\"--- SKOR AKHIR MODEL DASAR (POPULARITAS) ---\")\n",
    "print(f\"SKOR MAP@10: {mapk_score_popular:.6f}\")"
   ]
  },
  {
   "cell_type": "markdown",
   "id": "a81ffb14",
   "metadata": {},
   "source": [
    "### Blok 5.2: Evaluasi Model B (Canggih - IBCF)"
   ]
  },
  {
   "cell_type": "code",
   "execution_count": 12,
   "id": "ecb2fe5b",
   "metadata": {},
   "outputs": [
    {
     "name": "stdout",
     "output_type": "stream",
     "text": [
      "--- [EVALUASI MODEL B] Menghitung Skor MAP@10 IBCF ---\n",
      "Selesai memproses 2000 / 11443 pengguna...\n",
      "Selesai memproses 4000 / 11443 pengguna...\n",
      "Selesai memproses 6000 / 11443 pengguna...\n",
      "Selesai memproses 8000 / 11443 pengguna...\n",
      "Selesai memproses 10000 / 11443 pengguna...\n",
      "Proses evaluasi IBCF selesai dalam 41.79 detik.\n",
      "\n",
      "--- SKOR AKHIR MODEL CANGGIH (IBCF) ---\n",
      "SKOR MAP@10: 0.007221\n"
     ]
    }
   ],
   "source": [
    "print(\"--- [EVALUASI MODEL B] Menghitung Skor MAP@10 IBCF ---\")\n",
    "import time\n",
    "start_time = time.time()\n",
    "\n",
    "# --- Fungsi Bantu untuk Rekomendasi IBCF ---\n",
    "def recommend_ibcf(user_cat_id, train_items_user_cat, similarity_matrix):\n",
    "    \"\"\" Menghasilkan skor mentah untuk semua item berdasarkan riwayat pengguna. \"\"\"\n",
    "    seen_items_cat = train_items_user_cat.get(user_cat_id, [])\n",
    "    if not seen_items_cat:\n",
    "        return np.array([])\n",
    "    # Ambil vektor kesamaan dan jumlahkan\n",
    "    similar_scores = similarity_matrix[seen_items_cat, :].sum(axis=0)\n",
    "    return similar_scores.A1 # .A1 mengubahnya jadi array 1D\n",
    "# --- ------------------------------------ ---\n",
    "\n",
    "predicted_list_ibcf = []\n",
    "actual_list_ibcf = []\n",
    "\n",
    "for i, user_id_str in enumerate(validation_users):\n",
    "    user_cat_id = user_id_to_cat.get(user_id_str)\n",
    "    if user_cat_id is None: # Jika pengguna tidak ada di set latihan\n",
    "        predicted_list_ibcf.append([])\n",
    "        actual_list_ibcf.append(validation_truth.get(user_id_str, []))\n",
    "        continue\n",
    "\n",
    "    # 1. Dapatkan skor rekomendasi personal\n",
    "    raw_scores = recommend_ibcf(user_cat_id, train_items_by_user_cat, item_similarity_matrix)\n",
    "\n",
    "    # 2. Urutkan skor (indeks item)\n",
    "    top_indices = np.argsort(raw_scores)[::-1]\n",
    "\n",
    "    # 3. Filter dan ambil Top 10\n",
    "    top_10_recs_str = []\n",
    "    seen_items_str = train_items_by_user_str.get(user_id_str, set())\n",
    "\n",
    "    for item_cat in top_indices:\n",
    "        item_id_str = cat_to_item_id[item_cat] # Terjemahkan kembali\n",
    "        if item_id_str not in seen_items_str: # Lakukan filtering\n",
    "            top_10_recs_str.append(item_id_str)\n",
    "        if len(top_10_recs_str) >= 10:\n",
    "            break\n",
    "\n",
    "    # 4. Kumpulkan hasil\n",
    "    predicted_list_ibcf.append(top_10_recs_str)\n",
    "    actual_list_ibcf.append(validation_truth[user_id_str])\n",
    "\n",
    "    if (i + 1) % 2000 == 0:\n",
    "        print(f\"Selesai memproses {i+1} / {len(validation_users)} pengguna...\")\n",
    "\n",
    "end_time = time.time()\n",
    "print(f\"Proses evaluasi IBCF selesai dalam {end_time - start_time:.2f} detik.\")\n",
    "\n",
    "# 5. Hitung skor akhir\n",
    "mapk_score_ibcf = mapk(actual_list_ibcf, predicted_list_ibcf, k=10)\n",
    "\n",
    "print(f\"\\n--- SKOR AKHIR MODEL CANGGIH (IBCF) ---\")\n",
    "print(f\"SKOR MAP@10: {mapk_score_ibcf:.6f}\")"
   ]
  },
  {
   "cell_type": "markdown",
   "id": "25d5807f",
   "metadata": {},
   "source": [
    "## FASE 6: DEPLOYMENT (Kesimpulan Proyek)"
   ]
  },
  {
   "cell_type": "markdown",
   "id": "332d92c5",
   "metadata": {},
   "source": [
    "### Blok 6.1: Perbandingan Hasil dan Kesimpulan Akhir (Cell Teks)"
   ]
  },
  {
   "cell_type": "code",
   "execution_count": 13,
   "id": "f14dc32e",
   "metadata": {},
   "outputs": [
    {
     "name": "stdout",
     "output_type": "stream",
     "text": [
      "--- [FASE 6] KESIMPULAN AKHIR PROYEK ---\n",
      "Skor Model Dasar (Popularitas): MAP@10 = 0.004362\n",
      "Skor Model Canggih (IBCF):     MAP@10 = 0.007221\n",
      "\n",
      "Model IBCF 65.53% lebih baik daripada model Popularitas.\n",
      "KESIMPULAN: Target proyek TERCAPAI. Model canggih terbukti lebih baik.\n"
     ]
    }
   ],
   "source": [
    "print(\"--- [FASE 6] KESIMPULAN AKHIR PROYEK ---\")\n",
    "print(f\"Skor Model Dasar (Popularitas): MAP@10 = {mapk_score_popular:.6f}\")\n",
    "print(f\"Skor Model Canggih (IBCF):     MAP@10 = {mapk_score_ibcf:.6f}\")\n",
    "\n",
    "# --- Analisis Hasil ---\n",
    "if mapk_score_ibcf > mapk_score_popular:\n",
    "    peningkatan = ((mapk_score_ibcf / mapk_score_popular) - 1) * 100\n",
    "    print(f\"\\nModel IBCF {peningkatan:.2f}% lebih baik daripada model Popularitas.\")\n",
    "    print(\"KESIMPULAN: Target proyek TERCAPAI. Model canggih terbukti lebih baik.\")\n",
    "else:\n",
    "    print(\"\\nKESIMPULAN: Target proyek TIDAK TERCAPAI. Model canggih tidak lebih baik.\")"
   ]
  }
 ],
 "metadata": {
  "kernelspec": {
   "display_name": "Python 3",
   "language": "python",
   "name": "python3"
  },
  "language_info": {
   "codemirror_mode": {
    "name": "ipython",
    "version": 3
   },
   "file_extension": ".py",
   "mimetype": "text/x-python",
   "name": "python",
   "nbconvert_exporter": "python",
   "pygments_lexer": "ipython3",
   "version": "3.12.5"
  }
 },
 "nbformat": 4,
 "nbformat_minor": 5
}
